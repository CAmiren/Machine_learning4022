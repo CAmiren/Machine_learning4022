{
 "cells": [
  {
   "cell_type": "code",
   "execution_count": 1,
   "metadata": {},
   "outputs": [],
   "source": [
    "import numpy as np\n",
    "from sklearn.datasets import load_iris\n",
    "from sklearn.preprocessing import StandardScaler\n",
    "from sklearn.model_selection import train_test_split\n",
    "\n",
    "# Load Iris dataset\n",
    "iris = load_iris()\n",
    "X = iris.data\n",
    "y = iris.target\n",
    "\n",
    "# Standardize the data\n",
    "scaler = StandardScaler()\n",
    "X = scaler.fit_transform(X)\n",
    "\n",
    "# Split the data\n",
    "#X_train, X_test, y_train, y_test = train_test_split(X, y, test_size=0.2, random_state=42)\n"
   ]
  },
  {
   "cell_type": "code",
   "execution_count": 2,
   "metadata": {},
   "outputs": [],
   "source": [
    "class GenSVM:\n",
    "    def __init__(self, lambda_param=1.0, p=2, kappa=0):\n",
    "        self.lambda_param = lambda_param\n",
    "        self.p = p\n",
    "        self.kappa = kappa\n",
    "\n",
    "    def fit(self, X, y):\n",
    "        n, m = X.shape\n",
    "        K = len(np.unique(y))\n",
    "        self.W = np.zeros((m, K-1))\n",
    "        self.t = np.zeros(K-1)\n",
    "        \n",
    "        # Convert y to one-hot encoding with simplex coding\n",
    "        Y = self.simplex_encoding(y, K)\n",
    "        \n",
    "        # Optimization using Iterative Majorization\n",
    "        self.optimize(X, Y)\n",
    "    \n",
    "    def simplex_encoding(self, y, K):\n",
    "        U = np.eye(K) - (1 / K)\n",
    "        return U[y]\n",
    "    \n",
    "    def optimize(self, X, Y):\n",
    "        # Simplified version of the iterative majorization algorithm\n",
    "        # This should include the steps to iteratively update W and t\n",
    "        for iteration in range(100):\n",
    "            # Compute q_ij, hinge loss, gradients, etc.\n",
    "            # Update W and t\n",
    "            pass\n",
    "\n",
    "    def predict(self, X):\n",
    "        # Prediction step\n",
    "        pass\n"
   ]
  },
  {
   "cell_type": "code",
   "execution_count": 4,
   "metadata": {},
   "outputs": [
    {
     "name": "stdout",
     "output_type": "stream",
     "text": [
      "Accuracy: 53.33%\n"
     ]
    }
   ],
   "source": [
    "import numpy.linalg as la\n",
    "\n",
    "class GenSVM:\n",
    "    def __init__(self, lambda_param=1.0, p=2, kappa=0):\n",
    "        self.lambda_param = lambda_param\n",
    "        self.p = p\n",
    "        self.kappa = kappa\n",
    "\n",
    "    def fit(self, X, y):\n",
    "        n, m = X.shape\n",
    "        K = len(np.unique(y))\n",
    "        self.W = np.zeros((m, K-1))\n",
    "        self.t = np.zeros(K-1)\n",
    "        \n",
    "        # Convert y to one-hot encoding with simplex coding\n",
    "        Y = self.simplex_encoding(y, K)\n",
    "        \n",
    "        # Optimization using Iterative Majorization\n",
    "        self.optimize(X, Y)\n",
    "    \n",
    "    def simplex_encoding(self, y, K):\n",
    "        U = np.eye(K) - (1 / K)\n",
    "        Y = U[y]\n",
    "        return Y[:, :-1]  # Return the first K-1 dimensions\n",
    "\n",
    "    def optimize(self, X, Y):\n",
    "        n, m = X.shape\n",
    "        K = Y.shape[1] + 1\n",
    "        for iteration in range(100):  # Number of iterations\n",
    "            Q = X.dot(self.W) + self.t\n",
    "            margins = np.maximum(0, 1 - (Y * Q).sum(axis=1, keepdims=True) + Q)\n",
    "            margins[np.arange(n), Y.argmax(axis=1)] = 0  # No loss for the correct class\n",
    "            \n",
    "            loss = np.linalg.norm(margins, ord=self.p, axis=1).sum() + self.lambda_param * la.norm(self.W)\n",
    "            grad_W = X.T.dot(margins) / n + self.lambda_param * self.W\n",
    "            grad_t = margins.mean(axis=0)\n",
    "            \n",
    "            self.W -= 0.01 * grad_W  # Learning rate\n",
    "            self.t -= 0.01 * grad_t\n",
    "    \n",
    "    def predict(self, X):\n",
    "        Q = X.dot(self.W) + self.t\n",
    "        return Q.argmax(axis=1)\n",
    "\n",
    "# Instantiate and train the model\n",
    "model = GenSVM()\n",
    "model.fit(X_train, y_train)\n",
    "y_pred = model.predict(X_test)\n",
    "\n",
    "# Evaluate the model\n",
    "from sklearn.metrics import accuracy_score\n",
    "accuracy = accuracy_score(y_test, y_pred)\n",
    "print(f'Accuracy: {accuracy * 100:.2f}%')\n"
   ]
  },
  {
   "cell_type": "code",
   "execution_count": 5,
   "metadata": {},
   "outputs": [
    {
     "name": "stdout",
     "output_type": "stream",
     "text": [
      "              precision    recall  f1-score   support\n",
      "\n",
      "           0       0.62      1.00      0.77        10\n",
      "           1       0.43      0.67      0.52         9\n",
      "           2       0.00      0.00      0.00        11\n",
      "\n",
      "    accuracy                           0.53        30\n",
      "   macro avg       0.35      0.56      0.43        30\n",
      "weighted avg       0.34      0.53      0.41        30\n",
      "\n",
      "[[10  0  0]\n",
      " [ 3  6  0]\n",
      " [ 3  8  0]]\n"
     ]
    },
    {
     "name": "stderr",
     "output_type": "stream",
     "text": [
      "/home/amir/miniconda3/envs/PY/lib/python3.11/site-packages/sklearn/metrics/_classification.py:1509: UndefinedMetricWarning: Precision is ill-defined and being set to 0.0 in labels with no predicted samples. Use `zero_division` parameter to control this behavior.\n",
      "  _warn_prf(average, modifier, f\"{metric.capitalize()} is\", len(result))\n",
      "/home/amir/miniconda3/envs/PY/lib/python3.11/site-packages/sklearn/metrics/_classification.py:1509: UndefinedMetricWarning: Precision is ill-defined and being set to 0.0 in labels with no predicted samples. Use `zero_division` parameter to control this behavior.\n",
      "  _warn_prf(average, modifier, f\"{metric.capitalize()} is\", len(result))\n",
      "/home/amir/miniconda3/envs/PY/lib/python3.11/site-packages/sklearn/metrics/_classification.py:1509: UndefinedMetricWarning: Precision is ill-defined and being set to 0.0 in labels with no predicted samples. Use `zero_division` parameter to control this behavior.\n",
      "  _warn_prf(average, modifier, f\"{metric.capitalize()} is\", len(result))\n"
     ]
    }
   ],
   "source": [
    "from sklearn.metrics import classification_report, confusion_matrix\n",
    "\n",
    "# Print classification report\n",
    "print(classification_report(y_test, y_pred))\n",
    "\n",
    "# Print confusion matrix\n",
    "print(confusion_matrix(y_test, y_pred))\n"
   ]
  }
 ],
 "metadata": {
  "kernelspec": {
   "display_name": "PY",
   "language": "python",
   "name": "python3"
  },
  "language_info": {
   "codemirror_mode": {
    "name": "ipython",
    "version": 3
   },
   "file_extension": ".py",
   "mimetype": "text/x-python",
   "name": "python",
   "nbconvert_exporter": "python",
   "pygments_lexer": "ipython3",
   "version": "3.1.-1"
  }
 },
 "nbformat": 4,
 "nbformat_minor": 2
}
