{
  "cells": [
    {
      "cell_type": "markdown",
      "metadata": {
        "id": "w0v9ZjLox9JZ"
      },
      "source": []
    },
    {
      "cell_type": "code",
      "execution_count": 2,
      "metadata": {
        "id": "DemdHGFOx9Ja"
      },
      "outputs": [],
      "source": [
        "import scipy.io\n",
        "import pandas as pd\n",
        "import numpy as np\n",
        "from scipy import stats\n",
        "from sklearn.model_selection import train_test_split\n",
        "from sklearn.preprocessing import StandardScaler\n",
        "from sklearn.linear_model import LogisticRegression , SGDClassifier\n",
        "from sklearn.model_selection import validation_curve\n",
        "from sklearn.metrics import  f1_score\n",
        "from sklearn.metrics import accuracy_score\n",
        "from sklearn.utils.validation import check_X_y, check_array, check_is_fitted\n",
        "from sklearn.base import clone\n",
        "from sklearn.metrics import log_loss\n",
        "import matplotlib.pyplot as plt"
      ]
    },
    {
      "cell_type": "markdown",
      "metadata": {
        "id": "PHzsIxIRx9Jb"
      },
      "source": [
        "## Loading the data"
      ]
    },
    {
      "cell_type": "code",
      "execution_count": 3,
      "metadata": {
        "colab": {
          "base_uri": "https://localhost:8080/"
        },
        "id": "2CQtPqbUx9Jc",
        "outputId": "a287fc0f-dd37-437d-d049-f65e3b3add3a"
      },
      "outputs": [
        {
          "output_type": "stream",
          "name": "stdout",
          "text": [
            "Data selection based on my student ID       0\n"
          ]
        }
      ],
      "source": [
        "print(f'Data selection based on my student ID \\\n",
        "      {40101924%4}')"
      ]
    },
    {
      "cell_type": "code",
      "execution_count": 4,
      "metadata": {
        "id": "ka3UtjNGx9Jc"
      },
      "outputs": [],
      "source": [
        "\n",
        "\n",
        "# Normal dataset\n",
        "\n",
        "!wget -q https://engineering.case.edu/sites/default/files/97.mat\n",
        "\n",
        "# Faulty dataset\n",
        "\n",
        "!wget -q https://engineering.case.edu/sites/default/files/105.mat\n"
      ]
    },
    {
      "cell_type": "code",
      "execution_count": 5,
      "metadata": {
        "colab": {
          "base_uri": "https://localhost:8080/"
        },
        "id": "KOFQiFjmx9Jd",
        "outputId": "baa97911-58c1-4c9c-d4c7-4f7ee8d65c81"
      },
      "outputs": [
        {
          "output_type": "stream",
          "name": "stdout",
          "text": [
            "[('X097_DE_time', (243938, 1), 'double'), ('X097_FE_time', (243938, 1), 'double'), ('X097RPM', (1, 1), 'double')]\n",
            "[('X105_DE_time', (121265, 1), 'double'), ('X105_FE_time', (121265, 1), 'double'), ('X105_BA_time', (121265, 1), 'double'), ('X105RPM', (1, 1), 'double')]\n",
            "0    0\n",
            "dtype: int64\n",
            "0    0\n",
            "dtype: int64\n"
          ]
        }
      ],
      "source": [
        "\n",
        "# Load .mat file\n",
        "N_mat  = scipy.io.loadmat('97.mat')\n",
        "F_mat = scipy.io.loadmat('105.mat')\n",
        "info_N = scipy.io.whosmat('97.mat')\n",
        "info_F = scipy.io.whosmat('105.mat')\n",
        "\n",
        "print(info_N)\n",
        "print(info_F)\n",
        "\n",
        "# Extract the data\n",
        "\n",
        "Normal_data = N_mat ['X097_DE_time']\n",
        "Fault_data = F_mat ['X105_DE_time']\n",
        "\n",
        "Normal_data.shape , Fault_data.shape\n",
        "#checing if there is null data\n",
        "N_df = pd.DataFrame(Normal_data)\n",
        "F_df = pd.DataFrame(Fault_data)\n",
        "\n",
        "print(N_df.isnull().sum())\n",
        "print(F_df.isnull().sum())\n",
        "\n"
      ]
    },
    {
      "cell_type": "markdown",
      "metadata": {
        "id": "K4jqHPtbx9Jd"
      },
      "source": [
        "## data extraction"
      ]
    },
    {
      "cell_type": "code",
      "execution_count": 6,
      "metadata": {
        "colab": {
          "base_uri": "https://localhost:8080/"
        },
        "id": "Fi-nIDIyx9Je",
        "outputId": "ec60338f-a138-4920-e8e9-d4e92bcde947"
      },
      "outputs": [
        {
          "output_type": "execute_result",
          "data": {
            "text/plain": [
              "((100, 200), (100, 200))"
            ]
          },
          "metadata": {},
          "execution_count": 6
        }
      ],
      "source": [
        "\n",
        "# Extracting random M*N matrix\n",
        "def extr(data, M, N):\n",
        "    if len(data) < M * N:\n",
        "        raise ValueError(\"The dataset does not have enough elements to form an MxN matrix.\")\n",
        "\n",
        "    # Shuffle the array\n",
        "    np.random.shuffle(data)\n",
        "\n",
        "    # Extract the first M*N elements and reshape them into an MxN matrix\n",
        "    matrix = np.array(data[:M * N]).reshape(M, N)\n",
        "    return matrix\n",
        "\n",
        "M = 100\n",
        "N = 200\n",
        "Normal = extr(Normal_data,M,N)\n",
        "Faulty = extr(Fault_data,M,N)\n",
        "Normal.shape , Faulty.shape"
      ]
    },
    {
      "cell_type": "markdown",
      "metadata": {
        "id": "yTgT7Jwwx9Je"
      },
      "source": []
    },
    {
      "cell_type": "markdown",
      "metadata": {
        "id": "qzl0qdA_x9Jf"
      },
      "source": [
        "## feature extraction"
      ]
    },
    {
      "cell_type": "code",
      "execution_count": 31,
      "metadata": {
        "id": "Vwj2FHEdx9Jf"
      },
      "outputs": [],
      "source": [
        "import numpy as np\n",
        "from scipy import stats\n",
        "\n",
        "class FeatureExtraction:\n",
        "    def __init__(self, matrix):\n",
        "        self.matrix = matrix\n",
        "        self.features = {\n",
        "            'standard_deviation': self.standard_deviation(),\n",
        "            'peak': self.peak(),\n",
        "            'skewness': self.skewness(),\n",
        "            'kurtosis' : self.kurtosis(),\n",
        "            'crest_factor': self.crest_factor(),\n",
        "            'clearance_factor' : self.clearance_factor(),\n",
        "            'peak_to_peak' : self.peak_to_peak(),\n",
        "            'shape_factor' : self.shape_factor(),\n",
        "            'impact_factor': self.impact_factor(),\n",
        "            'square_mean_root' : self.square_mean_root(),\n",
        "            'mean': self.mean(),\n",
        "            'absolute_mean': self.absolute_mean(),\n",
        "            'root_mean_square': self.root_mean_square(),\n",
        "            'impulse_factor' : self.impulse_factor()\n",
        "        }\n",
        "\n",
        "    def mean(self):\n",
        "        return np.mean(self.matrix, axis=1)\n",
        "\n",
        "    def absolute_mean(self):\n",
        "        return np.mean(np.abs(self.matrix), axis=1)\n",
        "\n",
        "    def standard_deviation(self):\n",
        "        return np.std(self.matrix, axis=1)\n",
        "\n",
        "    def peak(self):\n",
        "        return np.max(self.matrix, axis=1)\n",
        "\n",
        "    def skewness(self):\n",
        "        return stats.skew(self.matrix, axis=1)\n",
        "\n",
        "    def kurtosis(self):\n",
        "        return stats.kurtosis(self.matrix, axis=1)\n",
        "\n",
        "    def crest_factor(self):\n",
        "        return self.peak() / self.root_mean_square()\n",
        "\n",
        "    def clearance_factor(self):\n",
        "        return self.peak() / np.square(self.square_mean_root())\n",
        "\n",
        "    def peak_to_peak(self):\n",
        "        return np.ptp(self.matrix, axis=1)\n",
        "\n",
        "    def shape_factor(self):\n",
        "        return self.root_mean_square() / self.absolute_mean()\n",
        "\n",
        "    def impact_factor(self):\n",
        "        return np.max(np.abs(self.matrix), axis=1) / self.absolute_mean()\n",
        "\n",
        "    def square_mean_root(self):\n",
        "        return np.square(np.mean(np.sqrt(np.abs(self.matrix)), axis=1))\n",
        "\n",
        "    def root_mean_square(self):\n",
        "        return np.sqrt(np.mean(np.square(self.matrix), axis=1))\n",
        "\n",
        "    def impulse_factor(self):\n",
        "        return np.max(np.abs(self.matrix), axis=1) / np.mean(np.abs(self.matrix), axis=1)\n",
        "\n",
        "\n"
      ]
    },
    {
      "cell_type": "markdown",
      "metadata": {
        "id": "nHh84ABux9Jf"
      },
      "source": [
        "## Lableing"
      ]
    },
    {
      "cell_type": "code",
      "execution_count": 9,
      "metadata": {
        "colab": {
          "base_uri": "https://localhost:8080/"
        },
        "id": "Ph5PxFLSx9Jf",
        "outputId": "757f244b-362a-4f69-8bbd-555f21faeac8"
      },
      "outputs": [
        {
          "output_type": "stream",
          "name": "stdout",
          "text": [
            "Combined Features Shape: (200, 14)\n",
            "Labels: (200,)\n"
          ]
        }
      ],
      "source": [
        "\n",
        "def process_datasets(normal_data, fault_data):\n",
        "\n",
        "    normal_features = FeatureExtraction(normal_data).features\n",
        "    fault_features = FeatureExtraction(fault_data).features\n",
        "\n",
        "    # Convert dictionaries to arrays\n",
        "    normal_features_array = np.array(list(normal_features.values())).T\n",
        "    fault_features_array = np.array(list(fault_features.values())).T\n",
        "\n",
        "    # Combine the features into a single dataset\n",
        "    combined_features = np.concatenate((normal_features_array, fault_features_array), axis=0)\n",
        "\n",
        "    # create labels, 0 for normal, 1 for fault\n",
        "    labels = np.concatenate((np.zeros(normal_features_array.shape[0]), np.ones(fault_features_array.shape[0])))\n",
        "\n",
        "    return combined_features, labels\n",
        "\n",
        "# X is combined_features\n",
        "# y is Lables\n",
        "X, y = process_datasets(Normal, Faulty)\n",
        "print(\"Combined Features Shape:\", X.shape)\n",
        "print(\"Labels:\", y.shape)\n"
      ]
    },
    {
      "cell_type": "code",
      "source": [
        "print(y)"
      ],
      "metadata": {
        "colab": {
          "base_uri": "https://localhost:8080/"
        },
        "id": "PYaxp4dZOG_9",
        "outputId": "207e2be1-a415-45ca-f007-2ed45cc18659"
      },
      "execution_count": 33,
      "outputs": [
        {
          "output_type": "stream",
          "name": "stdout",
          "text": [
            "[0. 0. 0. 0. 0. 0. 0. 0. 0. 0. 0. 0. 0. 0. 0. 0. 0. 0. 0. 0. 0. 0. 0. 0.\n",
            " 0. 0. 0. 0. 0. 0. 0. 0. 0. 0. 0. 0. 0. 0. 0. 0. 0. 0. 0. 0. 0. 0. 0. 0.\n",
            " 0. 0. 0. 0. 0. 0. 0. 0. 0. 0. 0. 0. 0. 0. 0. 0. 0. 0. 0. 0. 0. 0. 0. 0.\n",
            " 0. 0. 0. 0. 0. 0. 0. 0. 0. 0. 0. 0. 0. 0. 0. 0. 0. 0. 0. 0. 0. 0. 0. 0.\n",
            " 0. 0. 0. 0. 1. 1. 1. 1. 1. 1. 1. 1. 1. 1. 1. 1. 1. 1. 1. 1. 1. 1. 1. 1.\n",
            " 1. 1. 1. 1. 1. 1. 1. 1. 1. 1. 1. 1. 1. 1. 1. 1. 1. 1. 1. 1. 1. 1. 1. 1.\n",
            " 1. 1. 1. 1. 1. 1. 1. 1. 1. 1. 1. 1. 1. 1. 1. 1. 1. 1. 1. 1. 1. 1. 1. 1.\n",
            " 1. 1. 1. 1. 1. 1. 1. 1. 1. 1. 1. 1. 1. 1. 1. 1. 1. 1. 1. 1. 1. 1. 1. 1.\n",
            " 1. 1. 1. 1. 1. 1. 1. 1.]\n"
          ]
        }
      ]
    },
    {
      "cell_type": "markdown",
      "metadata": {
        "id": "BcrZlxuAx9Jg"
      },
      "source": [
        "## standardization & test train split"
      ]
    },
    {
      "cell_type": "code",
      "execution_count": 34,
      "metadata": {
        "colab": {
          "base_uri": "https://localhost:8080/"
        },
        "id": "1vmnHzolx9Jg",
        "outputId": "b9616ab7-cc72-4cbb-8bfd-706d3420f80c"
      },
      "outputs": [
        {
          "output_type": "execute_result",
          "data": {
            "text/plain": [
              "((160, 14), (40, 14), (160,), (40,))"
            ]
          },
          "metadata": {},
          "execution_count": 34
        }
      ],
      "source": [
        "scaler = StandardScaler()\n",
        "scaler.fit_transform(X)\n",
        "\n",
        "x_train, x_test, y_train, y_test = train_test_split(X,y,\n",
        "    test_size = 0.2,\n",
        "    shuffle = True,\n",
        "    random_state = 24\n",
        ")\n",
        "x_train.shape, x_test.shape, y_train.shape, y_test.shape"
      ]
    },
    {
      "cell_type": "markdown",
      "metadata": {
        "id": "6g7_tvnyx9Jg"
      },
      "source": [
        "##  Logistic Regression (from Scratch)"
      ]
    },
    {
      "cell_type": "code",
      "execution_count": 35,
      "metadata": {
        "id": "1SNBO9apx9Jg"
      },
      "outputs": [],
      "source": [
        "import numpy as np\n",
        "import matplotlib.pyplot as plt\n",
        "\n",
        "class LogisticRegression:\n",
        "    def __init__(self, n_iter=100, lr=0.001, random_state=None):\n",
        "        self.n_iter = n_iter\n",
        "        self.eta = lr\n",
        "        np.random.seed(random_state)\n",
        "        self.loss = []\n",
        "\n",
        "    def _weight_init(self, n_features):\n",
        "        self.w = np.random.rand(n_features) * 0\n",
        "        self.b = np.random.rand()\n",
        "\n",
        "    def _update(self, x, E):\n",
        "        dj = np.dot(x.T, E)\n",
        "        self.w += self.eta * dj\n",
        "        self.b += self.eta * np.sum(E)\n",
        "\n",
        "    def forward(self, x):\n",
        "        z = np.dot(x, self.w) + self.b\n",
        "        a = 1 / (1 + np.e**(-z))\n",
        "        y_hat = np.array([1 if hat > 0.5 else 0 for hat in a])\n",
        "        return y_hat\n",
        "\n",
        "    def error(self, predict, true):\n",
        "        E = true - predict\n",
        "        e = 1 / len(true) * np.dot(E, E)\n",
        "        return E, e\n",
        "\n",
        "    def train(self, x, y):\n",
        "        n_features = x.shape[1]\n",
        "        self._weight_init(n_features)\n",
        "        for iter in range(self.n_iter):\n",
        "            y_hat = self.forward(x)\n",
        "            E, e = self.error(y_hat, y)\n",
        "            self.loss.append(e)\n",
        "            self._update(x, E)\n",
        "\n",
        "    def predict(self, x):\n",
        "        z = np.dot(x, self.w) + self.b\n",
        "        a = 1 / (1 + np.exp(-z))\n",
        "        y_pred = np.array([1 if pred > 0.5 else 0 for pred in a])\n",
        "        return y_pred\n",
        "\n",
        "    def plot_error(self):\n",
        "        plt.plot(range(1, self.n_iter + 1), self.loss)\n",
        "        plt.xlabel('Epoch')\n",
        "        plt.ylabel('Error')\n",
        "        plt.title('Error per Epoch')\n",
        "        plt.show()\n",
        "\n"
      ]
    },
    {
      "cell_type": "code",
      "execution_count": 45,
      "metadata": {
        "colab": {
          "base_uri": "https://localhost:8080/",
          "height": 541
        },
        "id": "sE9Df-cpx9Jh",
        "outputId": "3b0ef9e4-ac88-4373-f147-401d184cee54"
      },
      "outputs": [
        {
          "output_type": "stream",
          "name": "stderr",
          "text": [
            "<ipython-input-35-7f4bdc7829b6>:22: RuntimeWarning: overflow encountered in power\n",
            "  a = 1 / (1 + np.e**(-z))\n"
          ]
        },
        {
          "output_type": "display_data",
          "data": {
            "text/plain": [
              "<Figure size 640x480 with 1 Axes>"
            ],
            "image/png": "[encoded data removed]"
          },
          "metadata": {}
        },
        {
          "output_type": "stream",
          "name": "stderr",
          "text": [
            "<ipython-input-35-7f4bdc7829b6>:42: RuntimeWarning: overflow encountered in exp\n",
            "  a = 1 / (1 + np.exp(-z))\n"
          ]
        }
      ],
      "source": [
        "\n",
        "# Instantiate the LogisticRegression model\n",
        "model = LogisticRegression(n_iter=100, lr=0.01, random_state=24)\n",
        "\n",
        "# Train the model\n",
        "model.train(x_train, y_train)\n",
        "\n",
        "# Plot the training error\n",
        "model.plot_error()\n",
        "\n",
        "# Make predictions on test data\n",
        "y_pred = model.predict(x_test)\n",
        "\n"
      ]
    },
    {
      "cell_type": "markdown",
      "metadata": {
        "id": "XoPbOw_-x9Jh"
      },
      "source": [
        "#### Accuracy & Confusion matrix"
      ]
    },
    {
      "cell_type": "code",
      "execution_count": 47,
      "metadata": {
        "id": "IUMaq7Nsx9Jh"
      },
      "outputs": [],
      "source": [
        "def accuracy(y, y_hat):\n",
        "    acc = np.sum(y == np.round(y_hat)) / len(y)\n",
        "    return acc\n",
        "\n",
        "def confusion_matrix(y, y_hat):\n",
        "    true_positive = 0\n",
        "    true_negative = 0\n",
        "    false_positive = 0\n",
        "    false_negative = 0\n",
        "\n",
        "    for a, p in zip(y, y_hat):\n",
        "        if a == 1 and p == 1:\n",
        "            true_positive += 1\n",
        "        elif a == 0 and p == 0:\n",
        "            true_negative += 1\n",
        "        elif a == 0 and p == 1:\n",
        "            false_positive += 1\n",
        "        elif a == 1 and p == 0:\n",
        "            false_negative += 1\n",
        "\n",
        "    return true_negative, false_positive, false_negative, true_positive\n",
        "\n",
        "from sklearn.metrics import  f1_score , confusion_matrix , accuracy_score\n"
      ]
    },
    {
      "cell_type": "code",
      "execution_count": 38,
      "metadata": {
        "colab": {
          "base_uri": "https://localhost:8080/"
        },
        "id": "7TLn0N37x9Jh",
        "outputId": "b18555e4-9fab-47b7-e098-31ad134be6ac"
      },
      "outputs": [
        {
          "output_type": "execute_result",
          "data": {
            "text/plain": [
              "(1.0,\n",
              " array([[18,  0],\n",
              "        [ 0, 22]]),\n",
              " 1.0)"
            ]
          },
          "metadata": {},
          "execution_count": 38
        }
      ],
      "source": [
        "accuracy(y_test,y_pred),confusion_matrix(y_test,y_pred),f1_score(y_test,y_pred)"
      ]
    },
    {
      "cell_type": "markdown",
      "metadata": {
        "id": "JXHO12Pcx9Jh"
      },
      "source": [
        "### SGD classifier"
      ]
    },
    {
      "cell_type": "code",
      "execution_count": 49,
      "metadata": {
        "colab": {
          "base_uri": "https://localhost:8080/",
          "height": 569
        },
        "id": "ZJwCCJYxx9Jh",
        "outputId": "ccefd8c7-5596-4bed-e65c-ed4cba162f03"
      },
      "outputs": [
        {
          "output_type": "display_data",
          "data": {
            "text/plain": [
              "<Figure size 1000x600 with 1 Axes>"
            ],
            "image/png": "[encoded data removed]"
          },
          "metadata": {}
        }
      ],
      "source": [
        "eta0_values = [0.0001, 0.001, 0.01, 0.1, 1, 10]\n",
        "model2 = SGDClassifier(loss=\"log_loss\"\n",
        "                          , eta0=0.1\n",
        "                          , learning_rate=\"constant\"\n",
        "                          , penalty=None\n",
        "                          , random_state=24\n",
        "                          , max_iter=100\n",
        "                          )\n",
        "model2.fit(x_train , y_train)\n",
        "y2_pred = model2.predict(x_test) , y_test\n",
        "train_scores, valid_scores = validation_curve(model2, x_train, y_train,\n",
        "                                              param_name=\"eta0\",\n",
        "                                              param_range=eta0_values,\n",
        "                                              scoring=\"accuracy\"\n",
        "                                              )\n",
        "\n",
        "# Plot the validation curve\n",
        "plt.figure(figsize=(10, 6))\n",
        "plt.plot(eta0_values, np.mean(train_scores, axis=1), label='Training score')\n",
        "plt.plot(eta0_values, np.mean(valid_scores, axis=1), label='Validation score')\n",
        "plt.xscale('log')\n",
        "plt.xlabel(\"Learning Rate (eta0)\")\n",
        "plt.ylabel(\"Score\")\n",
        "plt.title(\"Validation Curve for Learning Rate\")\n",
        "plt.legend()\n",
        "plt.show()\n"
      ]
    },
    {
      "cell_type": "code",
      "execution_count": 58,
      "metadata": {
        "colab": {
          "base_uri": "https://localhost:8080/"
        },
        "id": "LOes352_x9Jh",
        "outputId": "1ec75455-b8dd-4f61-8e8c-0b46f570a1f2"
      },
      "outputs": [
        {
          "output_type": "execute_result",
          "data": {
            "text/plain": [
              "(1.0, 1.0)"
            ]
          },
          "metadata": {},
          "execution_count": 58
        }
      ],
      "source": [
        "#accuracy(y2_pred,y_test)\n",
        "from sklearn.metrics import accuracy_score\n",
        "model3 = SGDClassifier(loss=\"log_loss\"\n",
        "                          , eta0=0.01\n",
        "                          , learning_rate=\"constant\"\n",
        "                          , random_state=24\n",
        "                          , max_iter=100\n",
        "                          )\n",
        "model3.fit(x_train , y_train)\n",
        "y3_pred = model3.predict(x_test)\n",
        "\n",
        "accuracy_score(y3_pred,y_test) , f1_score(y3_pred,y_test)\n"
      ]
    }
  ],
  "metadata": {
    "kernelspec": {
      "display_name": "Machine_learning",
      "language": "python",
      "name": "python3"
    },
    "language_info": {
      "codemirror_mode": {
        "name": "ipython",
        "version": 3
      },
      "file_extension": ".py",
      "mimetype": "text/x-python",
      "name": "python",
      "nbconvert_exporter": "python",
      "pygments_lexer": "ipython3",
      "version": "3.11.8"
    },
    "colab": {
      "provenance": []
    }
  },
  "nbformat": 4,
  "nbformat_minor": 0
}